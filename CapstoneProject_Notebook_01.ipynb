{
 "cells": [
  {
   "cell_type": "markdown",
   "metadata": {},
   "source": [
    "This notebook contains the code for the CapstoneProject Assignment."
   ]
  },
  {
   "cell_type": "markdown",
   "metadata": {},
   "source": [
    "Import Libraries:"
   ]
  },
  {
   "cell_type": "code",
   "execution_count": null,
   "metadata": {},
   "outputs": [],
   "source": [
    "import numpy as np # library to handle data in a vectorized manner\n",
    "\n",
    "import pandas as pd # library for data analsysis\n",
    "pd.set_option('display.max_columns', None)\n",
    "pd.set_option('display.max_rows', None)\n",
    "\n",
    "import json # library to handle JSON files\n",
    "\n",
    "from geopy.geocoders import Nominatim # convert an address into latitude and longitude values\n",
    "\n",
    "import requests # library to handle requests\n",
    "\n",
    "import matplotlib.pyplot as plt\n",
    "\n",
    "from pandas.io.json import json_normalize # tranform JSON file into a pandas dataframe\n",
    "\n",
    "# Matplotlib and associated plotting modules\n",
    "import matplotlib.cm as cm\n",
    "import matplotlib.colors as colors\n",
    "\n",
    "from sklearn.cluster import KMeans # import k-means from clustering stage\n",
    "\n",
    "import folium # map rendering library"
   ]
  },
  {
   "cell_type": "markdown",
   "metadata": {},
   "source": [
    "Load the spatial dataset for NY (The dataset was taken from the 'NYU Spatial Data Repository'), extract the relevant spatial information and create a pandas dataframe"
   ]
  },
  {
   "cell_type": "code",
   "execution_count": null,
   "metadata": {},
   "outputs": [],
   "source": [
    "#define path to dataset location\n",
    "path01 = 'Raw_Data/newyork_data.json'\n",
    "\n",
    "#open json file into variable\n",
    "with open(path01) as json_data:\n",
    "    newyork_data = json.load(json_data)\n",
    "\n",
    "#extract 'features' data into new variable\n",
    "neighborhoods_data = newyork_data['features']\n",
    "\n",
    "#generate a dataframe containing information on Borough, Neighborhood, Lat, Lng\n",
    "#define the dataframe columns\n",
    "col_names = ['Borough', 'Neighborhood', 'Latitude', 'Longitude'] \n",
    "\n",
    "#create the dataframe\n",
    "df_NY = pd.DataFrame(columns=col_names)\n",
    "\n",
    "#fill the dataframe with the resepctive information\n",
    "for data in neighborhoods_data:\n",
    "    borough = neighborhood_name = data['properties']['borough'] \n",
    "    neighborhood_name = data['properties']['name']\n",
    "        \n",
    "    neighborhood_latlon = data['geometry']['coordinates']\n",
    "    neighborhood_lat = neighborhood_latlon[1]\n",
    "    neighborhood_lon = neighborhood_latlon[0]\n",
    "    \n",
    "    df_NY = df_NY.append({'Borough': borough,\n",
    "                                          'Neighborhood': neighborhood_name,\n",
    "                                          'Latitude': neighborhood_lat,\n",
    "                                          'Longitude': neighborhood_lon}, ignore_index=True)\n",
    "\n",
    "#sort dataframe by Boroughs\n",
    "df_NY = df_NY.sort_values(by=['Borough'])\n",
    "\n",
    "#display df\n",
    "df_NY"
   ]
  },
  {
   "cell_type": "markdown",
   "metadata": {},
   "source": [
    "Explore how many neighborhoods are in each borough"
   ]
  },
  {
   "cell_type": "code",
   "execution_count": null,
   "metadata": {},
   "outputs": [],
   "source": [
    "#count the number of neighborhoods in each borough\n",
    "df_exp_01 = df_NY['Borough'].value_counts()\n",
    "\n",
    "#plot distribution neigborhoods in each borough\n",
    "df_exp_01.plot(kind='bar', ylabel='# Neighborhoods')"
   ]
  },
  {
   "cell_type": "markdown",
   "metadata": {},
   "source": [
    "Display the different neighborhoods on a folium map"
   ]
  },
  {
   "cell_type": "code",
   "execution_count": null,
   "metadata": {},
   "outputs": [],
   "source": [
    "#get the coordinates of NY\n",
    "address = 'New York City, NY'\n",
    "geolocator = Nominatim(user_agent=\"ny_explorer\")\n",
    "location = geolocator.geocode(address)\n",
    "latitude_NY = location.latitude\n",
    "longitude_NY = location.longitude\n",
    "\n",
    "#generate a map of NY\n",
    "map_newyork = folium.Map(location=[latitude_NY, longitude_NY], zoom_start=10)\n",
    "\n",
    "#color scheme for each borough\n",
    "cd = {'Queens':'Red', 'Brooklyn':'Blue', 'Staten Island':'Green', 'Bronx':'Black', 'Manhattan':'Yellow'}\n",
    "\n",
    "#add neighborhood markers to the map\n",
    "for lat, lng, borough, neighborhood in zip(df_NY['Latitude'], df_NY['Longitude'], df_NY['Borough'], df_NY['Neighborhood']):\n",
    "    label = '{}, {}'.format(neighborhood, borough)\n",
    "    label = folium.Popup(label, parse_html=True)\n",
    "    folium.CircleMarker(\n",
    "        [lat, lng],\n",
    "        radius=3,\n",
    "        popup=label,\n",
    "        color=cd[str(borough)],\n",
    "        fill=True,\n",
    "        fill_color=cd[str(borough)],\n",
    "        fill_opacity=0.7,\n",
    "        parse_html=False).add_to(map_newyork)  \n",
    "    \n",
    "map_newyork"
   ]
  },
  {
   "cell_type": "markdown",
   "metadata": {},
   "source": [
    "Lets focus on only one of the boroughs -> Queens"
   ]
  },
  {
   "cell_type": "code",
   "execution_count": null,
   "metadata": {},
   "outputs": [],
   "source": [
    "df_queens = df_NY[df_NY['Borough'] == 'Queens'].reset_index(drop=True)\n",
    "df_queens.shape"
   ]
  },
  {
   "cell_type": "code",
   "execution_count": null,
   "metadata": {},
   "outputs": [],
   "source": [
    "#get the coordinates of Queens\n",
    "address = 'Queens, NY'\n",
    "geolocator = Nominatim(user_agent=\"queens_explorer\")\n",
    "location = geolocator.geocode(address)\n",
    "latitude_Queens = location.latitude\n",
    "longitude_Queens = location.longitude\n",
    "\n",
    "#generate a map of Queens\n",
    "map_queens = folium.Map(location=[latitude_Queens, longitude_Queens], zoom_start=11)\n",
    "\n",
    "#add neighborhood markers to the map\n",
    "for lat, lng, borough, neighborhood in zip(df_queens['Latitude'], df_queens['Longitude'], df_queens['Borough'], df_queens['Neighborhood']):\n",
    "    label = '{}, {}'.format(neighborhood, borough)\n",
    "    label = folium.Popup(label, parse_html=True)\n",
    "    folium.CircleMarker(\n",
    "        [lat, lng],\n",
    "        radius=3,\n",
    "        popup=label,\n",
    "        color='Green',\n",
    "        fill=True,\n",
    "        fill_color='Green',\n",
    "        fill_opacity=0.7,\n",
    "        parse_html=False).add_to(map_queens)  \n",
    "    \n",
    "map_queens"
   ]
  },
  {
   "cell_type": "markdown",
   "metadata": {},
   "source": [
    "Initiate Foursquare credentials & settings"
   ]
  },
  {
   "cell_type": "code",
   "execution_count": null,
   "metadata": {},
   "outputs": [],
   "source": [
    "#Foursquare ID\n",
    "CLIENT_ID = 'ENTER YOUR CLIENT ID HERE'\n",
    "\n",
    "#Foursquare Secret\n",
    "CLIENT_SECRET = 'ENTER YOUR CLIENT SECRET HERE'\n",
    "\n",
    "#Foursquare Version\n",
    "VERSION = '20180605'\n",
    "\n",
    "#category ID -> here 'food'\n",
    "CATEGORY_ID = '4d4b7105d754a06374d81259'\n",
    "\n",
    "#default Foursquare API limit\n",
    "LIMIT = 50 # A default Foursquare API limit value <-- WAS REDUCED TO 10 DUE TO THE REDUCED AMOUNT OF FREE CALLS PER DAY"
   ]
  },
  {
   "cell_type": "markdown",
   "metadata": {},
   "source": [
    "Explore venues in all neighborhoods of Queens"
   ]
  },
  {
   "cell_type": "code",
   "execution_count": null,
   "metadata": {},
   "outputs": [],
   "source": [
    "#create function\n",
    "def getNearbyVenues(names, latitudes, longitudes, radius=500):\n",
    "    \n",
    "    venues_list=[]\n",
    "    for name, lat, lng in zip(names, latitudes, longitudes):\n",
    "        print(name)\n",
    "            \n",
    "        # create the API request URL\n",
    "        url = 'https://api.foursquare.com/v2/venues/explore?categoryId={}&client_id={}&client_secret={}&v={}&ll={},{}&radius={}&limit={}'.format(\n",
    "            CATEGORY_ID,\n",
    "            CLIENT_ID, \n",
    "            CLIENT_SECRET, \n",
    "            VERSION, \n",
    "            lat, \n",
    "            lng, \n",
    "            radius, \n",
    "            LIMIT)\n",
    "            \n",
    "        # make the GET request\n",
    "        results = requests.get(url).json()[\"response\"]['groups'][0]['items']\n",
    "        \n",
    "        # return only relevant information for each nearby venue\n",
    "        venues_list.append([(\n",
    "            name, \n",
    "            lat, \n",
    "            lng, \n",
    "            v['venue']['name'], \n",
    "            v['venue']['location']['lat'], \n",
    "            v['venue']['location']['lng'],  \n",
    "            v['venue']['categories'][0]['name']) for v in results])\n",
    "\n",
    "    nearby_venues = pd.DataFrame([item for venue_list in venues_list for item in venue_list])\n",
    "    nearby_venues.columns = ['Neighborhood', \n",
    "                  'Neighborhood Latitude', \n",
    "                  'Neighborhood Longitude', \n",
    "                  'Venue', \n",
    "                  'Venue Latitude', \n",
    "                  'Venue Longitude', \n",
    "                  'Venue Category']\n",
    "    \n",
    "    return(nearby_venues)"
   ]
  },
  {
   "cell_type": "code",
   "execution_count": null,
   "metadata": {},
   "outputs": [],
   "source": [
    "#call function and write results to dataframe\n",
    "df_queens_venues = getNearbyVenues(names=df_queens['Neighborhood'],\n",
    "                                   latitudes=df_queens['Latitude'],\n",
    "                                   longitudes=df_queens['Longitude']\n",
    "                                  )"
   ]
  },
  {
   "cell_type": "code",
   "execution_count": null,
   "metadata": {},
   "outputs": [],
   "source": [
    "#Take a look at the new dataframe\n",
    "print(df_queens_venues.shape)\n",
    "df_queens_venues.head()"
   ]
  },
  {
   "cell_type": "code",
   "execution_count": null,
   "metadata": {},
   "outputs": [],
   "source": [
    "#Explore \n",
    "df_queens_venues_grouped = df_queens_venues.groupby('Neighborhood').count().sort_values(by=['Venue Category'], ascending=False)\n",
    "df_queens_venues_grouped"
   ]
  },
  {
   "cell_type": "code",
   "execution_count": null,
   "metadata": {},
   "outputs": [],
   "source": [
    "#plot distribution of venues in each neighborhood\n",
    "df_queens_venues_grouped['Venue Category'].plot(kind='bar', ylabel='# Food-Venues', xlabel='Neighborhoods', figsize=(20,10), fontsize=15)"
   ]
  },
  {
   "cell_type": "code",
   "execution_count": null,
   "metadata": {},
   "outputs": [],
   "source": [
    "#check for unqiue sub-categories within the found results for the food category\n",
    "print('There are {} uniques categories.'.format(len(df_queens_venues['Venue Category'].unique())))"
   ]
  },
  {
   "cell_type": "code",
   "execution_count": null,
   "metadata": {},
   "outputs": [],
   "source": [
    "#one hot encoding\n",
    "df_queens_onehot = pd.get_dummies(df_queens_venues[['Venue Category']], prefix=\"\", prefix_sep=\"\")\n",
    "\n",
    "#add neighborhood column back to dataframe\n",
    "df_queens_onehot['Neighborhood'] = df_queens_venues['Neighborhood'] \n",
    "\n",
    "#move neighborhood column to the first column\n",
    "fixed_columns = [df_queens_onehot.columns[-1]] + list(df_queens_onehot.columns[:-1])\n",
    "df_queens_onehot = df_queens_onehot[fixed_columns]\n",
    "\n",
    "df_queens_onehot.head()"
   ]
  },
  {
   "cell_type": "code",
   "execution_count": null,
   "metadata": {},
   "outputs": [],
   "source": [
    "#reshape dataframe to get the total amount venues for each cataegory (ranked)\n",
    "df_queens_onehot_sum = df_queens_onehot.transpose()\n",
    "df_queens_onehot_sum['sum'] = df_queens_onehot_sum.sum(axis=1)\n",
    "df_queens_onehot_sum = df_queens_onehot_sum.iloc[1:]\n",
    "df_queens_onehot_sum = df_queens_onehot_sum.sort_values(by=['sum'], ascending=False)\n",
    "df_queens_onehot_sum = df_queens_onehot_sum.head(10)\n",
    "\n",
    "#plot the dataframe\n",
    "df_queens_onehot_sum['sum'].plot(kind='bar', ylabel='# Food-Venues', xlabel='Neighborhoods')"
   ]
  },
  {
   "cell_type": "code",
   "execution_count": null,
   "metadata": {},
   "outputs": [],
   "source": [
    "#group rows by neighborhood and by taking the mean of the frequency of occurrence of each category\n",
    "df_queens_grouped = df_queens_onehot.groupby('Neighborhood').mean().reset_index()\n",
    "df_queens_grouped"
   ]
  },
  {
   "cell_type": "code",
   "execution_count": null,
   "metadata": {},
   "outputs": [],
   "source": [
    "#function to sort the venues in for each neighborhood in descending order.\n",
    "def return_most_common_venues(row, num_top_venues):\n",
    "    row_categories = row.iloc[1:]\n",
    "    row_categories_sorted = row_categories.sort_values(ascending=False)\n",
    "    \n",
    "    return row_categories_sorted.index.values[0:num_top_venues]"
   ]
  },
  {
   "cell_type": "code",
   "execution_count": null,
   "metadata": {},
   "outputs": [],
   "source": [
    "#call function to display the top 10 venues for each neighborhood in a df\n",
    "#no. of venues to display\n",
    "num_top_venues = 10\n",
    "\n",
    "#indicators for the ranking (e.g. 1st, 2nd, 3rd etc.)\n",
    "indicators = ['st', 'nd', 'rd']\n",
    "\n",
    "#create columns according to number of top venues\n",
    "columns = ['Neighborhood']\n",
    "for ind in np.arange(num_top_venues):\n",
    "    try:\n",
    "        columns.append('{}{} Most Common Venue'.format(ind+1, indicators[ind]))\n",
    "    except:\n",
    "        columns.append('{}th Most Common Venue'.format(ind+1))\n",
    "\n",
    "#create a new dataframe\n",
    "df_queens_venues_sorted = pd.DataFrame(columns=columns)\n",
    "df_queens_venues_sorted['Neighborhood'] = df_queens_grouped['Neighborhood']\n",
    "\n",
    "for ind in np.arange(df_queens_grouped.shape[0]):\n",
    "    df_queens_venues_sorted.iloc[ind, 1:] = return_most_common_venues(df_queens_grouped.iloc[ind, :], num_top_venues)\n",
    "\n",
    "#display dataframe\n",
    "df_queens_venues_sorted.head()"
   ]
  },
  {
   "cell_type": "markdown",
   "metadata": {},
   "source": [
    "Cluster neighborhoods"
   ]
  },
  {
   "cell_type": "code",
   "execution_count": null,
   "metadata": {},
   "outputs": [],
   "source": [
    "#find optimal k-value (code taken from 'https://predictivehacks.com/k-means-elbow-method-code-for-python/#:~:text=K%2DMeans%20is%20an%20unsupervised,optimal%20for%20the%20specific%20case.')\n",
    "#Method 1\n",
    "#elbow method\n",
    "#data to fit\n",
    "a = df_queens_grouped.drop('Neighborhood', 1)\n",
    "\n",
    "#run different k's\n",
    "distortions = []\n",
    "K = range(1,10)\n",
    "for k in K:\n",
    "    kmeanModel = KMeans(n_clusters=k)\n",
    "    kmeanModel.fit(a)\n",
    "    distortions.append(kmeanModel.inertia_)\n",
    "\n",
    "#plot result\n",
    "plt.figure(figsize=(16,8))\n",
    "plt.plot(K, distortions, 'bx-')\n",
    "plt.xlabel('k')\n",
    "plt.ylabel('Distortion')\n",
    "plt.title('The Elbow Method showing the optimal k')\n",
    "plt.show()\n",
    "\n",
    "#-> look for the 'elbow' in the graph below -> looks like 5"
   ]
  },
  {
   "cell_type": "code",
   "execution_count": null,
   "metadata": {},
   "outputs": [],
   "source": [
    "#cluster with k-means\n",
    "#set number of clusters\n",
    "kclusters = 5\n",
    "\n",
    "df_queens_grouped_clustering = df_queens_grouped.drop('Neighborhood', 1)\n",
    "\n",
    "#run k-means clustering\n",
    "kmeans = KMeans(n_clusters=kclusters, random_state=0).fit(df_queens_grouped_clustering)\n",
    "\n",
    "#check cluster labels generated for each row in the dataframe\n",
    "kmeans.labels_[0:10]"
   ]
  },
  {
   "cell_type": "code",
   "execution_count": null,
   "metadata": {},
   "outputs": [],
   "source": [
    "#create a new dataframe that includes the cluster + the top 10 venues for each neighborhood\n",
    "#add clustering labels\n",
    "df_queens_venues_sorted.insert(0, 'Cluster Labels', kmeans.labels_)\n",
    "\n",
    "df_queens_merged = df_queens\n",
    "\n",
    "#merge manhattan_grouped with manhattan_data to add latitude/longitude for each neighborhood\n",
    "df_queens_merged = df_queens_merged.join(df_queens_venues_sorted.set_index('Neighborhood'), on='Neighborhood')\n",
    "\n",
    "#drop NaN rows from neighborhoods with no results from the initial search\n",
    "df_queens_merged = df_queens_merged.dropna()\n",
    "\n",
    "#convert float to int in cloumn 'Cluster Labels' -> important for floium visualization in the next cell\n",
    "df_queens_merged = df_queens_merged.astype({\"Cluster Labels\":'int'})  \n",
    "\n",
    "#display dataframe\n",
    "df_queens_merged.head()"
   ]
  },
  {
   "cell_type": "code",
   "execution_count": null,
   "metadata": {},
   "outputs": [],
   "source": [
    "#visulaize result on a folium map\n",
    "# create map\n",
    "map_clusters = folium.Map(location=[latitude_Queens, longitude_Queens], zoom_start=11)\n",
    "\n",
    "# set color scheme for the clusters\n",
    "x = np.arange(kclusters)\n",
    "ys = [i + x + (i*x)**2 for i in range(kclusters)]\n",
    "colors_array = cm.rainbow(np.linspace(0, 1, len(ys)))\n",
    "rainbow = [colors.rgb2hex(i) for i in colors_array]\n",
    "\n",
    "# add markers to the map\n",
    "markers_colors = []\n",
    "for lat, lon, poi, cluster in zip(df_queens_merged['Latitude'], df_queens_merged['Longitude'], df_queens_merged['Neighborhood'], df_queens_merged['Cluster Labels']):\n",
    "    label = folium.Popup(str(poi) + ' Cluster ' + str(cluster), parse_html=True)\n",
    "    folium.CircleMarker(\n",
    "        [lat, lon],\n",
    "        radius=5,\n",
    "        popup=label,\n",
    "        color=rainbow[cluster-1],\n",
    "        fill=True,\n",
    "        fill_color=rainbow[cluster-1],\n",
    "        fill_opacity=0.7).add_to(map_clusters)\n",
    "       \n",
    "map_clusters"
   ]
  },
  {
   "cell_type": "code",
   "execution_count": null,
   "metadata": {},
   "outputs": [],
   "source": [
    "#cluster 1\n",
    "df_queens_merged.loc[df_queens_merged['Cluster Labels'] == 0, df_queens_merged.columns[[1] + list(range(5, df_queens_merged.shape[1]))]].sort_values(by=['1st Most Common Venue', '2nd Most Common Venue', '3rd Most Common Venue'])"
   ]
  },
  {
   "cell_type": "code",
   "execution_count": null,
   "metadata": {},
   "outputs": [],
   "source": [
    "#cluster 2\n",
    "df_queens_merged.loc[df_queens_merged['Cluster Labels'] == 1, df_queens_merged.columns[[1] + list(range(5, df_queens_merged.shape[1]))]].sort_values(by=['1st Most Common Venue', '2nd Most Common Venue', '3rd Most Common Venue'])"
   ]
  },
  {
   "cell_type": "code",
   "execution_count": null,
   "metadata": {},
   "outputs": [],
   "source": [
    "#cluster 3\n",
    "df_queens_merged.loc[df_queens_merged['Cluster Labels'] == 2, df_queens_merged.columns[[1] + list(range(5, df_queens_merged.shape[1]))]].sort_values(by=['1st Most Common Venue', '2nd Most Common Venue', '3rd Most Common Venue'])"
   ]
  },
  {
   "cell_type": "code",
   "execution_count": null,
   "metadata": {},
   "outputs": [],
   "source": [
    "#cluster 4\n",
    "df_queens_merged.loc[df_queens_merged['Cluster Labels'] == 3, df_queens_merged.columns[[1] + list(range(5, df_queens_merged.shape[1]))]].sort_values(by=['1st Most Common Venue', '2nd Most Common Venue', '3rd Most Common Venue'])"
   ]
  },
  {
   "cell_type": "code",
   "execution_count": null,
   "metadata": {},
   "outputs": [],
   "source": [
    "#cluster 5\n",
    "df_queens_merged.loc[df_queens_merged['Cluster Labels'] == 4, df_queens_merged.columns[[1] + list(range(5, df_queens_merged.shape[1]))]].sort_values(by=['1st Most Common Venue', '2nd Most Common Venue', '3rd Most Common Venue'])"
   ]
  },
  {
   "cell_type": "code",
   "execution_count": null,
   "metadata": {},
   "outputs": [],
   "source": []
  }
 ],
 "metadata": {
  "kernelspec": {
   "display_name": "Capstone_Project",
   "language": "python",
   "name": "capstone_project"
  },
  "language_info": {
   "codemirror_mode": {
    "name": "ipython",
    "version": 3
   },
   "file_extension": ".py",
   "mimetype": "text/x-python",
   "name": "python",
   "nbconvert_exporter": "python",
   "pygments_lexer": "ipython3",
   "version": "3.8.3"
  }
 },
 "nbformat": 4,
 "nbformat_minor": 4
}
